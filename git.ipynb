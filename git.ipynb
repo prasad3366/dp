{
 "cells": [
  {
   "cell_type": "code",
   "execution_count": null,
   "id": "874f1427",
   "metadata": {},
   "outputs": [],
   "source": [
    "a=1\n",
    "print(a)\n"
   ]
  }
 ],
 "metadata": {
  "language_info": {
   "name": "python"
  }
 },
 "nbformat": 4,
 "nbformat_minor": 5
}
