{
 "cells": [
  {
   "cell_type": "code",
   "execution_count": null,
   "id": "874f1427",
   "metadata": {},
   "outputs": [],
   "source": [
    "b=1\n",
    "print(b)\n"
   ]
  }
 ],
 "metadata": {
  "language_info": {
   "name": "python"
  }
 },
 "nbformat": 4,
 "nbformat_minor": 5
}
